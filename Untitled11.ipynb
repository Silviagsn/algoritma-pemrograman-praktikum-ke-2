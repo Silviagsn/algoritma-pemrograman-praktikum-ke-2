{
 "cells": [
  {
   "cell_type": "code",
   "execution_count": 47,
   "id": "2f21a718-5a86-4fce-8e9f-bc0298fe86c9",
   "metadata": {},
   "outputs": [
    {
     "name": "stdin",
     "output_type": "stream",
     "text": [
      "a = : 17\n",
      "b = : 8\n"
     ]
    },
    {
     "name": "stdout",
     "output_type": "stream",
     "text": [
      "hasil penjumlahan : 25\n",
      "hasil selisih : -9\n",
      "hasil perkalian : 136\n",
      "hasil sisabagi : 1\n",
      "hasil pembagian : 2.125\n",
      "1.2304489213782739\n",
      "hasil perpangkatan : 6975757441\n"
     ]
    }
   ],
   "source": [
    "\n",
    "a = int(input(\"a = :\"))\n",
    "b = int(input(\"b = :\"))\n",
    "penjumlahan = (a+b)\n",
    "print(\"hasil penjumlahan : \" + str(penjumlahan))\n",
    "selisih = (b-a)\n",
    "print(\"hasil selisih : \" + str(selisih))\n",
    "perkalian = (a*b)\n",
    "print(\"hasil perkalian : \" + str(perkalian))\n",
    "sisabagi = a%b\n",
    "print(\"hasil sisabagi : \" + str(sisabagi))\n",
    "pembagian = (a/b)\n",
    "print(\"hasil pembagian : \" + str(pembagian))\n",
    "log_a = math.log10(a)\n",
    "print(log_a)\n",
    "perpangkatan = (a**b)\n",
    "print(\"hasil perpangkatan : \" + str(perpangkatan))\n",
    "\n",
    "\n"
   ]
  },
  {
   "cell_type": "code",
   "execution_count": 65,
   "id": "16f70d13-6aa7-4a9e-bcc8-80498ee0f10d",
   "metadata": {},
   "outputs": [
    {
     "name": "stdin",
     "output_type": "stream",
     "text": [
      "Lintang kota 1:  236\n",
      "Bujur kota 1:  366\n",
      "Lintang kota 2:  477\n",
      "Bujur kota 2:  266\n"
     ]
    },
    {
     "name": "stdout",
     "output_type": "stream",
     "text": [
      "3799.630054123086\n"
     ]
    }
   ],
   "source": [
    "\n",
    "from math import *\n",
    "lat1 = math.radians(float(input(\"Lintang kota 1: \")))\n",
    "long1 = math.radians(float(input(\"Bujur kota 1: \")))\n",
    "lat2 = math.radians(float(input(\"Lintang kota 2: \")))\n",
    "long2 = math.radians(float(input(\"Bujur kota 2: \")))\n",
    "R = 6371\n",
    "lat = Lintang2 - Lintang1\n",
    "long = Bujur2 -Bujur1\n",
    "a = math.sin(lat/2)**2 + math.cos(lat1)* math.cos(lat2)*math.sin(long/2)**2\n",
    "c = 2 * math.atan2(sqrt(a), sqrt(1-a))\n",
    "d = R*c\n",
    "print(d)"
   ]
  },
  {
   "cell_type": "code",
   "execution_count": null,
   "id": "6217bb7a-0723-4409-999e-146669a6df9f",
   "metadata": {},
   "outputs": [],
   "source": []
  }
 ],
 "metadata": {
  "kernelspec": {
   "display_name": "Python 3 (ipykernel)",
   "language": "python",
   "name": "python3"
  },
  "language_info": {
   "codemirror_mode": {
    "name": "ipython",
    "version": 3
   },
   "file_extension": ".py",
   "mimetype": "text/x-python",
   "name": "python",
   "nbconvert_exporter": "python",
   "pygments_lexer": "ipython3",
   "version": "3.12.4"
  }
 },
 "nbformat": 4,
 "nbformat_minor": 5
}
